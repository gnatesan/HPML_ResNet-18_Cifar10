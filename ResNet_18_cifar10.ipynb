{
  "nbformat": 4,
  "nbformat_minor": 0,
  "metadata": {
    "colab": {
      "provenance": [],
      "toc_visible": true
    },
    "kernelspec": {
      "name": "python3",
      "display_name": "Python 3"
    },
    "language_info": {
      "name": "python"
    }
  },
  "cells": [
    {
      "cell_type": "code",
      "execution_count": null,
      "metadata": {
        "id": "5yh0J8-qTKPH"
      },
      "outputs": [],
      "source": [
        "import torch\n",
        "from torch import nn\n",
        "import torch\n",
        "from torch.utils.data import DataLoader\n",
        "import torchvision\n",
        "from torchvision import datasets, transforms\n",
        "\n",
        "\n",
        "import numpy as np\n",
        "import pandas as pd"
      ]
    },
    {
      "cell_type": "code",
      "source": [
        "class ResNetBlock(nn.Module):\n",
        "    def __init__(self, in_channels, out_channels, stride, padding=1):\n",
        "        super().__init__()\n",
        "        #Initialize two convolutional layers in ResNet block\n",
        "        self.layer1 = nn.Conv2d()\n",
        "        self.act1 = nn.ReLU()\n",
        "        self.layer2 = nn.Conv2d()\n",
        "        #Skip connection\n",
        "        self.skip_connection = nn.Identity()\n",
        "        if in_channels != out_channels or stride != 1:\n",
        "            self.skip_connection = nn.Conv2d(in_channels, out_channels, kernel_size=1, stride=stride, padding=padding)"
      ],
      "metadata": {
        "id": "i120oendU4_n"
      },
      "execution_count": null,
      "outputs": []
    }
  ]
}