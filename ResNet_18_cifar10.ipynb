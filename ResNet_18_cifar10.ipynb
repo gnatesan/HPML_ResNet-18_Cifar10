{
  "nbformat": 4,
  "nbformat_minor": 0,
  "metadata": {
    "colab": {
      "provenance": [],
      "authorship_tag": "ABX9TyPvAnBH1lF0J6UNksMinMw0"
    },
    "kernelspec": {
      "name": "python3",
      "display_name": "Python 3"
    },
    "language_info": {
      "name": "python"
    }
  },
  "cells": [
    {
      "cell_type": "code",
      "execution_count": 1,
      "metadata": {
        "id": "5yh0J8-qTKPH"
      },
      "outputs": [],
      "source": [
        "import torch\n",
        "from torch import nn\n",
        "import torch\n",
        "from torch.utils.data import DataLoader\n",
        "import torchvision\n",
        "from torchvision import datasets, transforms\n",
        "import torch.optim as optim\n",
        "import argparse\n",
        "\n",
        "\n",
        "import numpy as np\n",
        "import pandas as pd"
      ]
    },
    {
      "cell_type": "markdown",
      "source": [
        "Model"
      ],
      "metadata": {
        "id": "d6RY9ymNuM2y"
      }
    },
    {
      "cell_type": "code",
      "source": [
        "class ResNetBlock(nn.Module):\n",
        "    def __init__(self, in_channels, out_channels, stride):\n",
        "        super().__init__()\n",
        "        #Initialize two convolutional layers in ResNet block\n",
        "        self.block1 = nn.Sequential (\n",
        "            nn.Conv2d(in_channels, out_channels, kernel_size=3, stride=stride, padding=1, bias=0),\n",
        "            nn.BatchNorm2d(out_channels),\n",
        "            nn.ReLU(),\n",
        "            nn.Conv2d(in_channels, out_channels, kernel_size=3, stride=stride, padding=1, bias=0),\n",
        "            nn.BatchNorm2d(out_channels)\n",
        "        )\n",
        "        #Skip connection\n",
        "        self.skip_connection = nn.Identity()\n",
        "        if in_channels != out_channels or stride != 1:\n",
        "            self.skip_connection = nn.Sequential(\n",
        "                nn.Conv2d(in_channels, out_channels, kernel_size=1, stride=stride, padding=1, bias=0),\n",
        "                nn.BatchNorm2d(out_channels)\n",
        "        )\n",
        "\n",
        "    def forward(self, x):\n",
        "        identity_x = x.skip_connection\n",
        "        x = self.block1(x)\n",
        "        x = x + identity_x\n",
        "        return x\n"
      ],
      "metadata": {
        "id": "i120oendU4_n"
      },
      "execution_count": 2,
      "outputs": []
    },
    {
      "cell_type": "code",
      "source": [
        "class ResNet(nn.Module):\n",
        "    def __init__(self):\n",
        "        super().__init__()\n",
        "        self.conv1 = nn.Sequential(\n",
        "            nn.Conv2d(3, 64, kernel_size=3, stride=1, padding=1, bias=0),\n",
        "            nn.BatchNorm2d(64),\n",
        "            nn.ReLU()\n",
        "        )\n",
        "        self.layer1 = ResNetBlock(3, 64, stride=1)\n",
        "        self.act1 = nn.ReLU()\n",
        "        self.layer2 = ResNetBlock(64, 128, stride=2)\n",
        "        self.act2 = nn.ReLU()\n",
        "        self.layer3 = ResNetBlock(128, 256, stride=2)\n",
        "        self.act3 = nn.ReLU()\n",
        "        self.layer4 = ResNetBlock(256, 512, stride=2)\n",
        "        self.act4 = nn.ReLU()\n",
        "        self.fc1 = nn.Linear(512, 10)\n",
        "\n",
        "    def forward(self, x):\n",
        "        x = self.conv1(x)\n",
        "        x = self.act1(self.layer1(x))\n",
        "        x = self.act2(self.layer2(x))\n",
        "        x = self.act3(self.layer3(x))\n",
        "        x = self.act4(self.layer4(x))\n",
        "        x = self.fc1(x)\n",
        "        return x"
      ],
      "metadata": {
        "id": "Lps0-jGY1L3g"
      },
      "execution_count": 3,
      "outputs": []
    },
    {
      "cell_type": "code",
      "source": [
        "resnet = ResNet()\n",
        "criterion = nn.CrossEntropyLoss()\n",
        "optimizer = optim.SGD(resnet.parameters(), lr=0.1, momentum=0.9, weight_decay=0.0005)"
      ],
      "metadata": {
        "id": "TMeWUv1bBfA0"
      },
      "execution_count": 4,
      "outputs": []
    },
    {
      "cell_type": "code",
      "source": [
        "transform = transforms.Compose(\n",
        "    [transforms.ToTensor(),\n",
        "     transforms.RandomCrop(size=32, padding=4),\n",
        "     transforms.RandomHorizontalFlip(),\n",
        "     transforms.Normalize((0.4914, 0.4822, 0.4465), (0.2023, 0.1994, 0.2010))])"
      ],
      "metadata": {
        "id": "mgdVcqlfDewD"
      },
      "execution_count": 5,
      "outputs": []
    },
    {
      "cell_type": "markdown",
      "source": [
        "Data Loader"
      ],
      "metadata": {
        "id": "wS8NyxjyWcAl"
      }
    },
    {
      "cell_type": "code",
      "source": [
        "trainset = torchvision.datasets.CIFAR10(root='./data', train=True, download=True, transform=transform)\n",
        "trainloader = torch.utils.data.DataLoader(trainset, batch_size=128, shuffle=True, num_workers=2)\n",
        "\n",
        "testset = torchvision.datasets.CIFAR10(root='./data', train=False, download=True, transform=transform)\n",
        "testloader = torch.utils.data.DataLoader(testset, batch_size=100, shuffle=True, num_workers=2)"
      ],
      "metadata": {
        "colab": {
          "base_uri": "https://localhost:8080/"
        },
        "id": "Ufm8dhrp9FXp",
        "outputId": "5bbc75fb-54ed-45f8-cae8-60e3bf5985ee"
      },
      "execution_count": 6,
      "outputs": [
        {
          "output_type": "stream",
          "name": "stdout",
          "text": [
            "Downloading https://www.cs.toronto.edu/~kriz/cifar-10-python.tar.gz to ./data/cifar-10-python.tar.gz\n"
          ]
        },
        {
          "output_type": "stream",
          "name": "stderr",
          "text": [
            "100%|██████████| 170498071/170498071 [00:10<00:00, 15761354.17it/s]\n"
          ]
        },
        {
          "output_type": "stream",
          "name": "stdout",
          "text": [
            "Extracting ./data/cifar-10-python.tar.gz to ./data\n",
            "Files already downloaded and verified\n"
          ]
        }
      ]
    },
    {
      "cell_type": "code",
      "source": [
        "device = torch.device(\"cuda\" if torch.cuda.is_available() else \"cpu\")"
      ],
      "metadata": {
        "id": "HwAHJREOtWr6"
      },
      "execution_count": 7,
      "outputs": []
    },
    {
      "cell_type": "code",
      "source": [
        "def train_network (resnet, n_epochs):\n",
        "    resnet.to(device)\n",
        "    for epoch in range(n_epochs):\n",
        "        train_loss = 0\n",
        "        correct = 0\n",
        "        total = 0\n",
        "\n",
        "        for i, data in enumerate(trainloader, 0):\n",
        "            inputs, labels = data\n",
        "\n",
        "            inputs, labels = inputs.to(device), labels.to(device)\n",
        "\n",
        "            #zero the parameter gradient\n",
        "            optimizer.zero_grad()\n",
        "\n",
        "            #forward + backward + optimize\n",
        "            output = resnet(inputs)\n",
        "            loss = criterion(output, labels)\n",
        "            loss.backward()\n",
        "            optimizer.step()\n",
        "\n",
        "            train_loss += loss.item()\n",
        "            _, predicted = output.max(1)\n",
        "            total += labels.size(0)\n",
        "            correct += predicted.eq(labels).sum().item()\n",
        "\n",
        "            print(i, len(trainloader), 'Per-batch Training Loss: %.3f | Acc: %.3f%%'\n",
        "                     % (train_loss/(i+1), 100.0*correct/total))\n",
        "\n",
        "    print('Model Training Accuracy: %.3f' % 100.0*correct/total)"
      ],
      "metadata": {
        "id": "i_z1jfYf255K"
      },
      "execution_count": 11,
      "outputs": []
    }
  ]
}